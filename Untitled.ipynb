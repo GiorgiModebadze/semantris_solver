{
 "cells": [
  {
   "cell_type": "code",
   "execution_count": 54,
   "metadata": {
    "ExecuteTime": {
     "end_time": "2020-05-28T22:46:36.273345Z",
     "start_time": "2020-05-28T22:46:36.264904Z"
    }
   },
   "outputs": [],
   "source": [
    "import spacy \n",
    "import json"
   ]
  },
  {
   "cell_type": "code",
   "execution_count": 2,
   "metadata": {
    "ExecuteTime": {
     "end_time": "2020-05-28T22:10:30.848889Z",
     "start_time": "2020-05-28T22:10:17.475207Z"
    }
   },
   "outputs": [],
   "source": [
    "nlp = spacy.load('en_core_web_lg') "
   ]
  },
  {
   "cell_type": "code",
   "execution_count": 24,
   "metadata": {
    "ExecuteTime": {
     "end_time": "2020-05-28T22:16:22.589437Z",
     "start_time": "2020-05-28T22:16:22.546496Z"
    }
   },
   "outputs": [],
   "source": [
    "tokens = nlp()"
   ]
  },
  {
   "cell_type": "code",
   "execution_count": 18,
   "metadata": {
    "ExecuteTime": {
     "end_time": "2020-05-28T22:12:24.506386Z",
     "start_time": "2020-05-28T22:12:24.499823Z"
    }
   },
   "outputs": [
    {
     "data": {
      "text/plain": [
       "Dog"
      ]
     },
     "execution_count": 18,
     "metadata": {},
     "output_type": "execute_result"
    }
   ],
   "source": [
    "tokens[1]"
   ]
  },
  {
   "cell_type": "code",
   "execution_count": 25,
   "metadata": {
    "ExecuteTime": {
     "end_time": "2020-05-28T22:16:24.286813Z",
     "start_time": "2020-05-28T22:16:24.279523Z"
    }
   },
   "outputs": [
    {
     "data": {
      "text/plain": [
       "0.6818804"
      ]
     },
     "execution_count": 25,
     "metadata": {},
     "output_type": "execute_result"
    }
   ],
   "source": [
    "tokens[0].similarity(tokens[1])"
   ]
  },
  {
   "cell_type": "code",
   "execution_count": 43,
   "metadata": {
    "ExecuteTime": {
     "end_time": "2020-05-28T22:26:59.254247Z",
     "start_time": "2020-05-28T22:26:59.238615Z"
    }
   },
   "outputs": [],
   "source": [
    "base_text = []\n",
    "with open(\"start.txt\",\"rb\") as f:\n",
    "    for i in json.loads(f.read())[5]:\n",
    "        base_text.append(i[0])"
   ]
  },
  {
   "cell_type": "code",
   "execution_count": null,
   "metadata": {
    "ExecuteTime": {
     "start_time": "2020-05-28T22:53:02.690Z"
    }
   },
   "outputs": [
    {
     "name": "stdout",
     "output_type": "stream",
     "text": [
      "Accordion\n",
      "Adidas\n",
      "Adult\n",
      "Adventure Time\n",
      "Advertising\n",
      "Agriculture\n",
      "Algae\n",
      "Allergy\n",
      "Alloy\n",
      "Alphabet\n",
      "Alps\n",
      "Altruism\n",
      "Amphibian\n",
      "Anatomy\n",
      "Anesthesia\n",
      "Anger\n",
      "Animation\n",
      "Antenna\n",
      "Anvil\n",
      "Apple\n",
      "Aquarium\n",
      "Arcade\n",
      "Archaeology\n",
      "Architecture\n",
      "Arctic\n",
      "Arms\n",
      "Arrested Development\n",
      "Art\n",
      "Asteroid\n"
     ]
    }
   ],
   "source": [
    "all_of_it = []\n",
    "missing_words = []\n",
    "for i in base_text:\n",
    "    main_word = nlp(i)\n",
    "    print(i)\n",
    "    similars = []\n",
    "    for j in base_text:\n",
    "        compare_word = nlp(j)\n",
    "        score = main_word.similarity(compare_word)\n",
    "        \n",
    "        if score > 0.3 and i != j:\n",
    "            similars.append({\n",
    "                \"word\" : j,\n",
    "                \"score\": score\n",
    "            })\n",
    "    \n",
    "    curr_val = {\n",
    "        i:similars\n",
    "    }\n",
    "    \n",
    "    all_of_it.append(curr_val)\n",
    "    if len(similars) == 0:\n",
    "        missing_words.append(i)\n",
    "        print(\"Nothing Found For\", i)\n",
    "    \n",
    "    with open('ourmodel.json', 'w') as fout:\n",
    "        json.dump(all_of_it, fout)\n",
    "        \n",
    "print(missing_words)"
   ]
  },
  {
   "cell_type": "code",
   "execution_count": 53,
   "metadata": {
    "ExecuteTime": {
     "end_time": "2020-05-28T22:44:50.496073Z",
     "start_time": "2020-05-28T22:44:50.478927Z"
    }
   },
   "outputs": [],
   "source": []
  },
  {
   "cell_type": "code",
   "execution_count": null,
   "metadata": {},
   "outputs": [],
   "source": []
  }
 ],
 "metadata": {
  "kernelspec": {
   "display_name": "Python 3",
   "language": "python",
   "name": "python3"
  },
  "language_info": {
   "codemirror_mode": {
    "name": "ipython",
    "version": 3
   },
   "file_extension": ".py",
   "mimetype": "text/x-python",
   "name": "python",
   "nbconvert_exporter": "python",
   "pygments_lexer": "ipython3",
   "version": "3.7.7"
  },
  "varInspector": {
   "cols": {
    "lenName": 16,
    "lenType": 16,
    "lenVar": 40
   },
   "kernels_config": {
    "python": {
     "delete_cmd_postfix": "",
     "delete_cmd_prefix": "del ",
     "library": "var_list.py",
     "varRefreshCmd": "print(var_dic_list())"
    },
    "r": {
     "delete_cmd_postfix": ") ",
     "delete_cmd_prefix": "rm(",
     "library": "var_list.r",
     "varRefreshCmd": "cat(var_dic_list()) "
    }
   },
   "types_to_exclude": [
    "module",
    "function",
    "builtin_function_or_method",
    "instance",
    "_Feature"
   ],
   "window_display": false
  }
 },
 "nbformat": 4,
 "nbformat_minor": 4
}
